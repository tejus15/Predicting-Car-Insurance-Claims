{
 "cells": [
  {
   "cell_type": "markdown",
   "id": "02ca97e6-a0c6-4a72-8a7f-cf5eb0ffcdfe",
   "metadata": {},
   "source": [
    "# Applied ML - Car Insurance Claim Prediction\n"
   ]
  },
  {
   "cell_type": "code",
   "execution_count": 13,
   "id": "7ef5249c-385d-45aa-ab9c-c9da37e31bb1",
   "metadata": {},
   "outputs": [],
   "source": [
    "import pickle\n",
    "import numpy as np\n",
    "import pandas as pd"
   ]
  },
  {
   "cell_type": "code",
   "execution_count": 29,
   "id": "0c5dc22b-a564-492e-8d9d-f34e90e2141e",
   "metadata": {},
   "outputs": [],
   "source": [
    "from sklearn.metrics import roc_curve, auc, precision_recall_curve\n",
    "import seaborn as sns\n",
    "import matplotlib.pyplot as plt"
   ]
  },
  {
   "cell_type": "markdown",
   "id": "dbdb68c5-7ccc-42f0-9af6-4857d6b9edcb",
   "metadata": {},
   "source": [
    "## Model Retreival"
   ]
  },
  {
   "cell_type": "code",
   "execution_count": 14,
   "id": "3b54b437-6a44-4442-bed9-fef57c9dd1f4",
   "metadata": {},
   "outputs": [],
   "source": [
    "# File path to your .pkl file to retrieve previously run model\n",
    "file_path = './pkl_store/partsOS_models.pkl'\n",
    "\n",
    "# Open the file in binary read mode\n",
    "with open(file_path, 'rb') as file:\n",
    "    # Load the object from the file\n",
    "    parts_processor = pickle.load(file)"
   ]
  },
  {
   "cell_type": "markdown",
   "id": "6bbbecb1-3ed5-48b1-b1fe-697baba5ca52",
   "metadata": {},
   "source": [
    "## Find Best Model for each Car Segment (Model)"
   ]
  },
  {
   "cell_type": "code",
   "execution_count": 15,
   "id": "9797ebb1-ab93-471f-8895-0abb304520ce",
   "metadata": {},
   "outputs": [
    {
     "data": {
      "text/html": [
       "<div>\n",
       "<style scoped>\n",
       "    .dataframe tbody tr th:only-of-type {\n",
       "        vertical-align: middle;\n",
       "    }\n",
       "\n",
       "    .dataframe tbody tr th {\n",
       "        vertical-align: top;\n",
       "    }\n",
       "\n",
       "    .dataframe thead th {\n",
       "        text-align: right;\n",
       "    }\n",
       "</style>\n",
       "<table border=\"1\" class=\"dataframe\">\n",
       "  <thead>\n",
       "    <tr style=\"text-align: right;\">\n",
       "      <th></th>\n",
       "      <th>M1</th>\n",
       "      <th>M4</th>\n",
       "      <th>M6</th>\n",
       "      <th>M8</th>\n",
       "      <th>M7</th>\n",
       "      <th>M3</th>\n",
       "      <th>M9</th>\n",
       "      <th>M5</th>\n",
       "      <th>Other</th>\n",
       "    </tr>\n",
       "  </thead>\n",
       "  <tbody>\n",
       "    <tr>\n",
       "      <th>Logistic Regression</th>\n",
       "      <td>0.132530</td>\n",
       "      <td>0.145803</td>\n",
       "      <td>0.149492</td>\n",
       "      <td>0.154341</td>\n",
       "      <td>0.148936</td>\n",
       "      <td>0.105263</td>\n",
       "      <td>0.105263</td>\n",
       "      <td>0.176991</td>\n",
       "      <td>0.151261</td>\n",
       "    </tr>\n",
       "    <tr>\n",
       "      <th>Decision Tree</th>\n",
       "      <td>0.157068</td>\n",
       "      <td>0.127045</td>\n",
       "      <td>0.153749</td>\n",
       "      <td>0.193798</td>\n",
       "      <td>0.150376</td>\n",
       "      <td>0.106509</td>\n",
       "      <td>0.099448</td>\n",
       "      <td>0.105263</td>\n",
       "      <td>0.187234</td>\n",
       "    </tr>\n",
       "    <tr>\n",
       "      <th>Random Forest</th>\n",
       "      <td>0.166227</td>\n",
       "      <td>0.153404</td>\n",
       "      <td>0.146514</td>\n",
       "      <td>0.132159</td>\n",
       "      <td>0.155172</td>\n",
       "      <td>0.088235</td>\n",
       "      <td>0.089552</td>\n",
       "      <td>0.125000</td>\n",
       "      <td>0.203704</td>\n",
       "    </tr>\n",
       "    <tr>\n",
       "      <th>KNN</th>\n",
       "      <td>0.107798</td>\n",
       "      <td>0.115976</td>\n",
       "      <td>0.141696</td>\n",
       "      <td>0.146789</td>\n",
       "      <td>0.107784</td>\n",
       "      <td>0.086957</td>\n",
       "      <td>0.153846</td>\n",
       "      <td>0.146341</td>\n",
       "      <td>0.136752</td>\n",
       "    </tr>\n",
       "    <tr>\n",
       "      <th>SVM</th>\n",
       "      <td>0.138496</td>\n",
       "      <td>0.152950</td>\n",
       "      <td>0.167539</td>\n",
       "      <td>0.118467</td>\n",
       "      <td>0.131455</td>\n",
       "      <td>0.131148</td>\n",
       "      <td>0.131387</td>\n",
       "      <td>0.161616</td>\n",
       "      <td>0.156250</td>\n",
       "    </tr>\n",
       "  </tbody>\n",
       "</table>\n",
       "</div>"
      ],
      "text/plain": [
       "                           M1        M4        M6        M8        M7  \\\n",
       "Logistic Regression  0.132530  0.145803  0.149492  0.154341  0.148936   \n",
       "Decision Tree        0.157068  0.127045  0.153749  0.193798  0.150376   \n",
       "Random Forest        0.166227  0.153404  0.146514  0.132159  0.155172   \n",
       "KNN                  0.107798  0.115976  0.141696  0.146789  0.107784   \n",
       "SVM                  0.138496  0.152950  0.167539  0.118467  0.131455   \n",
       "\n",
       "                           M3        M9        M5     Other  \n",
       "Logistic Regression  0.105263  0.105263  0.176991  0.151261  \n",
       "Decision Tree        0.106509  0.099448  0.105263  0.187234  \n",
       "Random Forest        0.088235  0.089552  0.125000  0.203704  \n",
       "KNN                  0.086957  0.153846  0.146341  0.136752  \n",
       "SVM                  0.131148  0.131387  0.161616  0.156250  "
      ]
     },
     "execution_count": 15,
     "metadata": {},
     "output_type": "execute_result"
    }
   ],
   "source": [
    "results = {}\n",
    "for car_model, models in parts_processor.model_results_by_stratify.items():\n",
    "    results[car_model] = {}\n",
    "    for model,model_metrics in models.items():\n",
    "        results[car_model][model] = model_metrics[\"results\"]['f1-score']\n",
    "results_df = pd.DataFrame(results)\n",
    "results_df"
   ]
  },
  {
   "cell_type": "code",
   "execution_count": 16,
   "id": "1c6acf74-46d9-41ed-a7ae-316a9d7c5e9d",
   "metadata": {},
   "outputs": [
    {
     "data": {
      "text/plain": [
       "M1             Random Forest\n",
       "M4             Random Forest\n",
       "M6                       SVM\n",
       "M8             Decision Tree\n",
       "M7             Random Forest\n",
       "M3                       SVM\n",
       "M9                       KNN\n",
       "M5       Logistic Regression\n",
       "Other          Random Forest\n",
       "dtype: object"
      ]
     },
     "execution_count": 16,
     "metadata": {},
     "output_type": "execute_result"
    }
   ],
   "source": [
    "best_models_by_segment = results_df.idxmax()\n",
    "best_models_by_segment"
   ]
  },
  {
   "cell_type": "markdown",
   "id": "8f52f2e4-a5f7-47ed-a9f1-e9a3d1657e5b",
   "metadata": {},
   "source": [
    "## Computing the Performance of Best ML Model for each Car Segment"
   ]
  },
  {
   "cell_type": "code",
   "execution_count": 21,
   "id": "b4e5b34b-e54f-47f0-90b0-a31e0d02175a",
   "metadata": {},
   "outputs": [],
   "source": [
    "# Create storage to store predictions from each car model\n",
    "y_pred_global = pd.Series(np.zeros(parts_processor.y_test.shape), index=parts_processor.y_test.index)\n",
    "# Loop through the saved results to find the best model: \n",
    "for car_model, models in parts_processor.model_results_by_stratify.items():\n",
    "    if car_model == \"Other\":\n",
    "        # Find the subsegement of the data for X_train, y_train, and X_test\n",
    "        X_train_temp = parts_processor.X_train[parts_processor.unenc_X_train[\"model\"].isin([\"M10\",\"M11\",\"M2\"])]\n",
    "        y_train_temp = parts_processor.y_train[parts_processor.unenc_X_train[\"model\"].isin([\"M10\",\"M11\",\"M2\"])]\n",
    "        X_test_temp = parts_processor.X_test[parts_processor.unenc_X_test[\"model\"].isin([\"M10\",\"M11\",\"M2\"])]\n",
    "        test_indices = parts_processor.X_test[parts_processor.unenc_X_test[\"model\"].isin([\"M10\",\"M11\",\"M2\"])].index\n",
    "    else:\n",
    "        X_train_temp = parts_processor.X_train[parts_processor.unenc_X_train[\"model\"] == car_model]\n",
    "        y_train_temp = parts_processor.y_train[parts_processor.unenc_X_train[\"model\"] == car_model]\n",
    "        X_test_temp = parts_processor.X_test[parts_processor.unenc_X_test[\"model\"] == car_model]\n",
    "        test_indices = parts_processor.X_test[parts_processor.unenc_X_test[\"model\"] == car_model].index\n",
    "\n",
    "    # Find the location where the best model is stored\n",
    "    mod_model_obj = parts_processor.model_results_by_stratify[car_model][best_models_by_segment[car_model]]['model']\n",
    "    # Create predictions on just the X_test observations that match the current car model\n",
    "    y_pred_temp = mod_model_obj.predict(X_test_temp)\n",
    "    # store the results in a global variable\n",
    "    y_pred_global[test_indices] = y_pred_temp\n",
    "\n",
    "# compute classification parameters\n",
    "mixed_model_results = parts_processor.compute_results(parts_processor.y_test, y_pred_global)"
   ]
  },
  {
   "cell_type": "markdown",
   "id": "ed1af453-1896-4dea-91bd-f74a21e1af01",
   "metadata": {},
   "source": [
    "### View Results"
   ]
  },
  {
   "cell_type": "code",
   "execution_count": 22,
   "id": "267162d7-6135-4c82-add5-e218c96bfedf",
   "metadata": {},
   "outputs": [
    {
     "name": "stdout",
     "output_type": "stream",
     "text": [
      "Model Metrics:\n",
      "               Value\n",
      "accuracy    0.705180\n",
      "precision   0.100709\n",
      "recall      0.454061\n",
      "f1-score    0.164854\n",
      "auc         0.588218\n",
      "log loss   10.626403\n"
     ]
    }
   ],
   "source": [
    "# Extracting confusion matrix separately for better display\n",
    "confusion_matrix = mixed_model_results.pop(\"confusion matrix\")\n",
    "\n",
    "# Convert the remaining dictionary into a pandas DataFrame\n",
    "results_df = pd.DataFrame(mixed_model_results, index=[\"Value\"]).T\n",
    "\n",
    "# Print the main results\n",
    "print(\"Model Metrics:\")\n",
    "print(results_df)"
   ]
  },
  {
   "cell_type": "code",
   "execution_count": 23,
   "id": "6031446a-3260-461e-a6fb-12cc4f0ff73f",
   "metadata": {},
   "outputs": [
    {
     "name": "stdout",
     "output_type": "stream",
     "text": [
      "\n",
      "Confusion Matrix:\n",
      "                 Predicted Negative  Predicted Positive\n",
      "Actual Negative                7923                3045\n",
      "Actual Positive                 410                 341\n"
     ]
    }
   ],
   "source": [
    "# Display the confusion matrix as a separate DataFrame\n",
    "confusion_matrix_df = pd.DataFrame(confusion_matrix, \n",
    "                                   columns=[\"Predicted Negative\", \"Predicted Positive\"], \n",
    "                                   index=[\"Actual Negative\", \"Actual Positive\"]\n",
    "                                  )\n",
    "\n",
    "print(\"\\nConfusion Matrix:\")\n",
    "print(confusion_matrix_df)"
   ]
  },
  {
   "cell_type": "markdown",
   "id": "e44893a2-7410-4972-bd69-3ac0ed341fb7",
   "metadata": {},
   "source": [
    "### Visualize Results"
   ]
  },
  {
   "cell_type": "code",
   "execution_count": 27,
   "id": "0e4dd5c5-d67c-4a84-a384-d52706947b15",
   "metadata": {},
   "outputs": [
    {
     "data": {
      "image/png": "[encoded data removed]",
      "text/plain": [
       "<Figure size 600x400 with 1 Axes>"
      ]
     },
     "metadata": {},
     "output_type": "display_data"
    }
   ],
   "source": [
    "# Compute ROC curve and AUC\n",
    "fpr, tpr, _ = roc_curve(parts_processor.y_test, y_pred_global)\n",
    "roc_auc = auc(fpr, tpr)\n",
    "\n",
    "# Plot ROC curve\n",
    "plt.figure(figsize=(6, 4))\n",
    "plt.plot(fpr, tpr, color='blue', label=f\"ROC Curve (AUC = {roc_auc:.2f})\")\n",
    "plt.plot([0, 1], [0, 1], color='red', linestyle='--')\n",
    "plt.xlabel(\"False Positive Rate\")\n",
    "plt.ylabel(\"True Positive Rate\")\n",
    "plt.title(\"ROC Curve\")\n",
    "plt.legend(loc=\"lower right\")\n",
    "plt.show()"
   ]
  },
  {
   "cell_type": "code",
   "execution_count": 31,
   "id": "e8fac89d-aec6-4536-a3a3-2d8667903e82",
   "metadata": {},
   "outputs": [
    {
     "data": {
      "image/png": "[encoded data removed]",
      "text/plain": [
       "<Figure size 600x400 with 1 Axes>"
      ]
     },
     "metadata": {},
     "output_type": "display_data"
    }
   ],
   "source": [
    "# Compute Precision-Recall curve\n",
    "precision, recall, _ = precision_recall_curve(parts_processor.y_test, y_pred_global)\n",
    "\n",
    "# Plot Precision-Recall curve\n",
    "plt.figure(figsize=(6, 4))\n",
    "plt.plot(recall, precision, color='green', label=\"Precision-Recall Curve\")\n",
    "plt.xlabel(\"Recall\")\n",
    "plt.ylabel(\"Precision\")\n",
    "plt.title(\"Precision-Recall Curve\")\n",
    "plt.legend()\n",
    "plt.show()"
   ]
  }
 ],
 "metadata": {
  "kernelspec": {
   "display_name": "aml_insurance",
   "language": "python",
   "name": "aml_insurance"
  },
  "language_info": {
   "codemirror_mode": {
    "name": "ipython",
    "version": 3
   },
   "file_extension": ".py",
   "mimetype": "text/x-python",
   "name": "python",
   "nbconvert_exporter": "python",
   "pygments_lexer": "ipython3",
   "version": "3.11.8"
  }
 },
 "nbformat": 4,
 "nbformat_minor": 5
}
