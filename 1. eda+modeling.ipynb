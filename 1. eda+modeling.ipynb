{
 "cells": [
  {
   "cell_type": "markdown",
   "id": "193a9eef-abcc-46a4-9a1e-12b86ab97028",
   "metadata": {},
   "source": [
    "# Applied ML - Car Insurance Claim Prediction\n",
    "The Dataset contains information on policyholders having the attributes like policy tenure, age of the car, age of the car owner, the population density of the city, make and model of the car, power, engine type, etc, and the target variable indicating whether the policyholder files a claim in the next 6 months or not."
   ]
  },
  {
   "cell_type": "markdown",
   "id": "66aebc01-47c5-48a2-b573-4daa164e919b",
   "metadata": {},
   "source": [
    "## Setting Up"
   ]
  },
  {
   "cell_type": "markdown",
   "id": "1fbe3792-b66c-4a9d-a919-600855d9b812",
   "metadata": {},
   "source": [
    "### Importing Relevant Libraries"
   ]
  },
  {
   "cell_type": "code",
   "execution_count": null,
   "id": "92151f7b-399a-4a9d-b8cd-759f97786ccf",
   "metadata": {},
   "outputs": [],
   "source": [
    "from pathlib import Path"
   ]
  },
  {
   "cell_type": "code",
   "execution_count": null,
   "id": "0054eec4-a7e8-4b92-a668-da56f1a50803",
   "metadata": {},
   "outputs": [],
   "source": [
    "import numpy as np\n",
    "import pandas as pd\n",
    "import matplotlib.pyplot as plt\n",
    "import seaborn as sns"
   ]
  },
  {
   "cell_type": "code",
   "execution_count": null,
   "id": "84fe7f6f-3006-4166-8f11-f382ab1da400",
   "metadata": {},
   "outputs": [],
   "source": [
    "from statsmodels.stats.outliers_influence import variance_inflation_factor\n",
    "from statsmodels.tools.tools import add_constant"
   ]
  },
  {
   "cell_type": "code",
   "execution_count": null,
   "id": "d2bee8d3-db25-4898-bbd9-ba14ed54c76f",
   "metadata": {},
   "outputs": [],
   "source": [
    "from sklearn.model_selection import train_test_split\n",
    "from sklearn.preprocessing import StandardScaler"
   ]
  },
  {
   "cell_type": "code",
   "execution_count": null,
   "id": "71113bda-3110-4763-9ee2-59feeac2a200",
   "metadata": {},
   "outputs": [],
   "source": [
    "from sklearn.model_selection import train_test_split\n",
    "from sklearn.model_selection import GridSearchCV, cross_val_score\n",
    "from sklearn.ensemble import RandomForestClassifier\n",
    "from sklearn.svm import SVC\n",
    "from sklearn.tree import DecisionTreeClassifier\n",
    "from sklearn.neighbors import KNeighborsClassifier\n",
    "from sklearn.metrics import accuracy_score, precision_score, recall_score, f1_score, roc_auc_score, log_loss, roc_auc_score, log_loss, confusion_matrix"
   ]
  },
  {
   "cell_type": "code",
   "execution_count": null,
   "id": "ea6387b9-f580-4b7c-bee8-457df3866a10",
   "metadata": {},
   "outputs": [],
   "source": [
    "from sklearn.linear_model import LogisticRegression"
   ]
  },
  {
   "cell_type": "code",
   "execution_count": null,
   "id": "64e93759-b5d7-459c-8e71-f3e1a5120e56",
   "metadata": {},
   "outputs": [],
   "source": [
    "import optuna"
   ]
  },
  {
   "cell_type": "code",
   "execution_count": null,
   "id": "1c966f52-9350-4cd3-b315-aaf1dd5c1e3f",
   "metadata": {},
   "outputs": [],
   "source": [
    "from process_model import Processor, PartProcessor"
   ]
  },
  {
   "cell_type": "code",
   "execution_count": null,
   "id": "dd39d829-266b-4e76-ab0b-3eed627337e8",
   "metadata": {},
   "outputs": [],
   "source": [
    "import warnings"
   ]
  },
  {
   "cell_type": "markdown",
   "id": "3724afa0-909e-48be-aacf-5cb8e23fc37a",
   "metadata": {},
   "source": [
    "### Workbook Settings"
   ]
  },
  {
   "cell_type": "code",
   "execution_count": null,
   "id": "25e9d68b-3760-47d9-9ec1-00587fcff7bd",
   "metadata": {},
   "outputs": [],
   "source": [
    "from IPython.display import display, HTML\n",
    "\n",
    "def display_scrollable(df, rows=10):\n",
    "    display(HTML(df.to_html(notebook=True, max_rows=rows, max_cols=None, border=0)))"
   ]
  },
  {
   "cell_type": "code",
   "execution_count": null,
   "id": "baf750dd-1edb-441f-8fd3-1c48c38531cd",
   "metadata": {},
   "outputs": [],
   "source": [
    "# Set the aesthetic style\n",
    "sns.set_style(\"whitegrid\")"
   ]
  },
  {
   "cell_type": "markdown",
   "id": "e414af47-0af6-471e-b899-613c7c0396c9",
   "metadata": {},
   "source": [
    "### Importing Relevant Data"
   ]
  },
  {
   "cell_type": "code",
   "execution_count": null,
   "id": "a2eebd3e-7a8c-423c-a32a-a48886254e58",
   "metadata": {},
   "outputs": [],
   "source": [
    "# data_paths: Adjust path of data as you see fit\n",
    "dir_path = Path(\"./\") # Insert path here if relative paths fail to work\n",
    "data_path = dir_path / Path(\"data\")"
   ]
  },
  {
   "cell_type": "code",
   "execution_count": null,
   "id": "5d6bec92-9047-4472-8404-799a6c236f1c",
   "metadata": {},
   "outputs": [],
   "source": [
    "# importing data\n",
    "ins_df = pd.read_csv(data_path / \"train.csv\")\n",
    "y = ins_df['is_claim']\n",
    "x = ins_df.drop(columns = ['policy_id','is_claim'], inplace=False)"
   ]
  },
  {
   "cell_type": "markdown",
   "id": "13992d0f-c91e-4e21-991f-d4b914e6e109",
   "metadata": {},
   "source": [
    "## Data Exploration"
   ]
  },
  {
   "cell_type": "markdown",
   "id": "2fe41c25-bf0d-42aa-86c4-ac882a538ced",
   "metadata": {},
   "source": [
    "### Data Structure"
   ]
  },
  {
   "cell_type": "code",
   "execution_count": null,
   "id": "fed5bef8-f4d6-4b69-8c67-5d53601094ab",
   "metadata": {},
   "outputs": [],
   "source": [
    "# Number of observations in dataset\n",
    "n = ins_df.shape[0]\n",
    "p = ins_df.shape[1]\n",
    "print(f\"The dataset has {n} observations with {p} predictors\")"
   ]
  },
  {
   "cell_type": "markdown",
   "id": "e96e4fb9-7e2e-4839-ad7b-4973a870b95c",
   "metadata": {},
   "source": [
    "### Distribution of Y"
   ]
  },
  {
   "cell_type": "code",
   "execution_count": null,
   "id": "a6505759-7d6f-46d4-8aa1-483559b425e4",
   "metadata": {},
   "outputs": [],
   "source": [
    "# Distribution of insurance_claims \n",
    "\n",
    "plt.figure(figsize=(4, 3))\n",
    "sns.countplot(data=ins_df, x='is_claim')\n",
    "\n",
    "# Set title and labels\n",
    "plt.title('Distribution of Y (Claims)')\n",
    "plt.xlabel('Claims')\n",
    "plt.ylabel('Count')\n",
    "\n",
    "# Display the plot\n",
    "plt.show()"
   ]
  },
  {
   "cell_type": "code",
   "execution_count": null,
   "id": "d9867988-5209-4c8c-94de-6d275499951c",
   "metadata": {},
   "outputs": [],
   "source": [
    "ins_df[\"is_claim\"].value_counts()"
   ]
  },
  {
   "cell_type": "markdown",
   "id": "3c559e38-6d6c-41f6-ab60-403888c60b58",
   "metadata": {},
   "source": [
    "### Analyzing Qualitative Variables"
   ]
  },
  {
   "cell_type": "code",
   "execution_count": null,
   "id": "f8461112-fbb7-410f-a671-822d27adcac1",
   "metadata": {},
   "outputs": [],
   "source": [
    "# Find all qualitative variables in the dataFrame\n",
    "categorical_cols = ins_df.select_dtypes(include=['object', 'category']).columns"
   ]
  },
  {
   "cell_type": "code",
   "execution_count": null,
   "id": "c3a2b49a-4ad0-4a68-a086-ecae7402e20d",
   "metadata": {},
   "outputs": [],
   "source": [
    "# View categorical columns:\n",
    "display_scrollable(ins_df[categorical_cols].head())"
   ]
  },
  {
   "cell_type": "markdown",
   "id": "d678ca09-3956-4062-8a63-c9ef264769e7",
   "metadata": {},
   "source": [
    "### Identifying Multicollinearity"
   ]
  },
  {
   "cell_type": "markdown",
   "id": "8c01fde7-bce3-483f-b1cb-6580997c6d4b",
   "metadata": {},
   "source": [
    "#### Perfect or Near Perfect Correlation"
   ]
  },
  {
   "cell_type": "code",
   "execution_count": null,
   "id": "11bbc4ef-d157-4450-922a-145df911d7b7",
   "metadata": {},
   "outputs": [],
   "source": [
    "ins_df.drop(columns = categorical_cols,axis=1).head()"
   ]
  },
  {
   "cell_type": "code",
   "execution_count": null,
   "id": "9eba4077-d8ef-4ed2-acf4-aa73d18679e1",
   "metadata": {},
   "outputs": [],
   "source": [
    "# unlike_categories = categories that are not perfectly captured by collinearity\n",
    "unlike_categories = ['policy_id','policy_tenure', 'age_of_car', 'age_of_policyholder', 'area_cluster', 'population_density',\n",
    "                 'is_claim']\n",
    "counts_df = ins_df.drop(columns=unlike_categories,axis=1).value_counts().to_frame().reset_index()\n",
    "counts_df.columns = list(ins_df.drop(columns=unlike_categories).columns) + ['Count']\n",
    "counts_df.shape"
   ]
  },
  {
   "cell_type": "code",
   "execution_count": null,
   "id": "3f6d725b-d3b9-400e-a5b2-fc825f0f2903",
   "metadata": {},
   "outputs": [],
   "source": [
    "display_scrollable(counts_df, rows=11)"
   ]
  },
  {
   "cell_type": "code",
   "execution_count": null,
   "id": "4d58bc36-711c-481e-b169-44447ab99200",
   "metadata": {},
   "outputs": [],
   "source": [
    "# Visualizing the different models\n",
    "plt.figure(figsize=(12, 6))\n",
    "sns.barplot(data=counts_df, x='model', y='Count')\n",
    "plt.xticks(rotation=45)\n",
    "plt.title(f'Counts by Model')\n",
    "plt.show()"
   ]
  },
  {
   "cell_type": "markdown",
   "id": "614b7a1d-7c45-471f-8e65-242008a5d3f3",
   "metadata": {},
   "source": [
    "#### Analyzing CrossTabs"
   ]
  },
  {
   "cell_type": "code",
   "execution_count": null,
   "id": "8ee4cedb-a36d-4964-a767-5e35ba5053b1",
   "metadata": {},
   "outputs": [],
   "source": [
    "# Count combinations of values in both columns\n",
    "count_combined = pd.crosstab(ins_df['model'], ins_df['is_claim'])\n",
    "\n",
    "# Calculate row percentages\n",
    "row_percentage_combined = pd.crosstab(ins_df['model'], ins_df['is_claim'], normalize='index') * 100\n",
    "\n",
    "print(\"\\nValue counts for both columns:\\n\", count_combined)"
   ]
  },
  {
   "cell_type": "markdown",
   "id": "59e17620-cc92-4eb7-b1b0-fbe1695fe933",
   "metadata": {},
   "source": [
    "As seen above, there is only 11 types of cars present in the dataset. Outside of the categories in unlike_categories, every other column can be grouped in only 11 categories (model). So given the model, you can always find the values of the other categories. "
   ]
  },
  {
   "cell_type": "markdown",
   "id": "a303c3ac-5021-4b3e-a7d0-b8c05bd94eac",
   "metadata": {},
   "source": [
    "### Identifying Skewness"
   ]
  },
  {
   "cell_type": "code",
   "execution_count": null,
   "id": "63f95853-6097-401e-b229-7d1f2db0cfd1",
   "metadata": {},
   "outputs": [],
   "source": [
    "# Create subplots side by side\n",
    "fig, axes = plt.subplots(nrows=1, ncols=len([\"policy_tenure\", \"age_of_car\", \"age_of_policyholder\", \"population_density\"]), figsize=(5 * len([\"policy_tenure\", \"age_of_car\", \"age_of_policyholder\", \"population_density\"]), 5))\n",
    "\n",
    "for i, col in enumerate([\"policy_tenure\", \"age_of_car\", \"age_of_policyholder\", \"population_density\"]):\n",
    "    ax = axes[i]\n",
    "    ins_df[col].plot(kind='hist', bins=10, alpha=0.7, ax=ax)\n",
    "    ax.set_title(f'Distribution of {col}')\n",
    "    ax.set_xlabel(col)\n",
    "    ax.set_ylabel('Frequency')\n",
    "\n",
    "plt.tight_layout()\n",
    "plt.show()"
   ]
  },
  {
   "cell_type": "markdown",
   "id": "eb177de1-2a9f-4427-bf22-7794e6772113",
   "metadata": {},
   "source": [
    "## Data Modeling"
   ]
  },
  {
   "cell_type": "markdown",
   "id": "3f9e43a3-39a4-4865-a598-7aa0332481da",
   "metadata": {},
   "source": [
    "### Pre-Processing"
   ]
  },
  {
   "cell_type": "code",
   "execution_count": null,
   "id": "6f830d97-c883-4da2-9315-05703abd621b",
   "metadata": {},
   "outputs": [],
   "source": [
    "# Remove variables with perfect correlation\n",
    "X = unlike_categories[1:-1]+[\"model\"]\n",
    "y = \"is_claim\""
   ]
  },
  {
   "cell_type": "code",
   "execution_count": null,
   "id": "78b1826b-1117-4d3e-875d-ae124083146e",
   "metadata": {},
   "outputs": [],
   "source": [
    "X_quant_cols = [\"policy_tenure\", \"age_of_car\", \"age_of_policyholder\", \"population_density\"]\n",
    "X_qual_cols = [\"model\", \"area_cluster\"]"
   ]
  },
  {
   "cell_type": "markdown",
   "id": "b01f04ff-5c51-482d-b9b7-37f311aca97d",
   "metadata": {},
   "source": [
    "### Modeling\n",
    "#### Models"
   ]
  },
  {
   "cell_type": "code",
   "execution_count": null,
   "id": "8ad16d99-8866-41cf-bdbc-9f830c858699",
   "metadata": {},
   "outputs": [],
   "source": [
    "# Logistic Regression: \n",
    "log_reg = LogisticRegression(max_iter=1000,random_state=42)\n",
    "\n",
    "# Set up the parameter grid\n",
    "lr_grid = {\n",
    "    'C': [0.001, 0.01, 0.1, 1, 10],\n",
    "    'penalty': ['l2'],  \n",
    "    'class_weight': [None, 'balanced']\n",
    "}"
   ]
  },
  {
   "cell_type": "code",
   "execution_count": null,
   "id": "eada98b5-ef52-40f7-aecd-cb0b95db989c",
   "metadata": {},
   "outputs": [],
   "source": [
    "# Decision Trees:\n",
    "decision_tree = DecisionTreeClassifier(random_state=42)\n",
    "\n",
    "# Define the hyperparameters grid to search over\n",
    "dt_grid = {\n",
    "    'max_depth': [3, 5, 10],\n",
    "    'min_samples_split': [2, 5, 10],\n",
    "    'min_samples_leaf': [1, 2, 4],\n",
    "}"
   ]
  },
  {
   "cell_type": "code",
   "execution_count": null,
   "id": "e5470e7e-3d19-46f3-84cd-fd8500a6d393",
   "metadata": {},
   "outputs": [],
   "source": [
    "# Random Forest: \n",
    "random_forest = RandomForestClassifier(random_state=42)\n",
    "\n",
    "# Define the hyperparameter grid for tuning\n",
    "rf_grid = {\n",
    "    'n_estimators': [100, 200, 300],\n",
    "    'max_depth': [ 5, 10, 15],\n",
    "    'min_samples_split': [2, 5, 10],\n",
    "    'min_samples_leaf': [1, 2, 4], \n",
    "    'class_weight': [None, 'balanced']\n",
    "}"
   ]
  },
  {
   "cell_type": "code",
   "execution_count": null,
   "id": "92eee606-2d57-419b-b271-84dbecf05d91",
   "metadata": {},
   "outputs": [],
   "source": [
    "# KNN:\n",
    "knn = KNeighborsClassifier()\n",
    "\n",
    "# Parameters for KNN:\n",
    "knn_grid = {'n_neighbors': range(3, 40, 2) }"
   ]
  },
  {
   "cell_type": "code",
   "execution_count": null,
   "id": "157fb395-623b-40af-989a-430baa907edf",
   "metadata": {},
   "outputs": [],
   "source": [
    "# SVM:\n",
    "svm = SVC()\n",
    "\n",
    "svm_grid = {\n",
    "    'C': [0.1, 10],                        # Regularization strength\n",
    "    'gamma': [0.1, 0.001],                 # Kernel coefficient (for 'rbf')\n",
    "    'kernel': ['linear', 'rbf'],           # Different kernel types\n",
    "}"
   ]
  },
  {
   "cell_type": "markdown",
   "id": "e63f0805-a9e4-4abc-99b9-938a07d5fed5",
   "metadata": {},
   "source": [
    "#### Base - No Oversampling, Full Models"
   ]
  },
  {
   "cell_type": "code",
   "execution_count": null,
   "id": "c5367282-a60c-4f9e-b46a-e97192d91204",
   "metadata": {},
   "outputs": [],
   "source": [
    "# Custom written class that handles storage of various models and ensures pre-processing is standardized\n",
    "base_models = Processor(\n",
    "    data_df=ins_df, \n",
    "    target_col = y, \n",
    "    quant_cols=X_quant_cols, \n",
    "    qual_cols=X_qual_cols\n",
    ")\n",
    "\n",
    "# splits the model into train and test segments\n",
    "base_models.train_test_split(test_size=0.2, stratify_by=\"model\")\n",
    "\n",
    "# standardize data using standard scaler\n",
    "base_models.data_standarization(processor='StandardScaler')"
   ]
  },
  {
   "cell_type": "code",
   "execution_count": null,
   "id": "cb70adc0-ca82-40e8-97bd-ebe6461094c9",
   "metadata": {},
   "outputs": [],
   "source": [
    "base_models.run_model(\"Logistic Regression\", log_reg, lr_grid, scoring=\"f1\")"
   ]
  },
  {
   "cell_type": "code",
   "execution_count": null,
   "id": "3d17652f-aa15-4871-8fbf-9a34e9054c51",
   "metadata": {},
   "outputs": [],
   "source": [
    "base_models.run_model(\"Decision Tree\", decision_tree, dt_grid, scoring=\"f1\")"
   ]
  },
  {
   "cell_type": "code",
   "execution_count": null,
   "id": "6270991f-f260-4705-a618-ff5de7622dcc",
   "metadata": {},
   "outputs": [],
   "source": [
    "base_models.run_model(\"Random Forest\", random_forest, rf_grid, scoring=\"f1\")"
   ]
  },
  {
   "cell_type": "code",
   "execution_count": null,
   "id": "16387c01-4670-428d-9420-452f4cbea35e",
   "metadata": {},
   "outputs": [],
   "source": [
    "base_models.run_model(\"KNN\", knn, knn_grid, scoring=\"f1\")"
   ]
  },
  {
   "cell_type": "code",
   "execution_count": null,
   "id": "98848a37-f440-49a6-9212-f2bf1792d7e3",
   "metadata": {},
   "outputs": [],
   "source": [
    "base_models.run_model(\"SVM\", svm, svm_grid, scoring=\"f1\")"
   ]
  },
  {
   "cell_type": "code",
   "execution_count": null,
   "id": "bf8ebe41-3d7a-4b05-8449-973f28d4e3a7",
   "metadata": {},
   "outputs": [],
   "source": [
    "base_models.get_results()"
   ]
  },
  {
   "cell_type": "code",
   "execution_count": null,
   "id": "bf44c644-02ea-407f-9338-a65b29dbd7f6",
   "metadata": {},
   "outputs": [],
   "source": [
    "# stores results in a pkl file for later analysis\n",
    "base_models.dump_pkl(\"./pkl_store/base.pkl\")"
   ]
  },
  {
   "cell_type": "markdown",
   "id": "ce1dd5e8-8d45-48a9-bedd-328061d2eaf2",
   "metadata": {},
   "source": [
    "#### Oversampling Models - Oversamlping, Full Models"
   ]
  },
  {
   "cell_type": "code",
   "execution_count": null,
   "id": "f05ae3aa-8180-4d67-a563-65df051cb6da",
   "metadata": {},
   "outputs": [],
   "source": [
    "# Custom written class that handles storage of various models and ensures pre-processing is standardized\n",
    "baseOS_models = Processor(\n",
    "    data_df=ins_df, \n",
    "    target_col = y, \n",
    "    quant_cols=X_quant_cols, \n",
    "    qual_cols=X_qual_cols\n",
    ")\n",
    "\n",
    "# splits the model into train and test segments\n",
    "baseOS_models.train_test_split(test_size=0.2, stratify_by=\"model\")\n",
    "\n",
    "# standardize data using standard scaler\n",
    "baseOS_models.data_standarization(processor='StandardScaler')\n",
    "\n",
    "# oversamples the data\n",
    "baseOS_models.oversample_data()"
   ]
  },
  {
   "cell_type": "code",
   "execution_count": null,
   "id": "d424a4b4-4d7e-417a-9bdb-cdd201d7a7b6",
   "metadata": {},
   "outputs": [],
   "source": [
    "baseOS_models.run_model(\"Logistic Regression\", log_reg, lr_grid, scoring=\"f1\")"
   ]
  },
  {
   "cell_type": "code",
   "execution_count": null,
   "id": "01a66e09-78c2-4c7b-9fe2-2d90bf909d10",
   "metadata": {},
   "outputs": [],
   "source": [
    "baseOS_models.run_model(\"Decision Tree\", decision_tree, dt_grid, scoring=\"f1\")"
   ]
  },
  {
   "cell_type": "code",
   "execution_count": null,
   "id": "f01992fe-cc4f-4416-bf05-aae6062ef2a5",
   "metadata": {},
   "outputs": [],
   "source": [
    "baseOS_models.run_model(\"Random Forest\", random_forest, rf_grid, scoring=\"f1\")"
   ]
  },
  {
   "cell_type": "code",
   "execution_count": null,
   "id": "500f6af4-2d09-4c9a-8ecd-dc2f064c6796",
   "metadata": {},
   "outputs": [],
   "source": [
    "baseOS_models.run_model(\"KNN\", knn, knn_grid, scoring=\"f1\")"
   ]
  },
  {
   "cell_type": "code",
   "execution_count": null,
   "id": "6d6615af-c56c-4da3-99a0-e5a1d3429446",
   "metadata": {},
   "outputs": [],
   "source": [
    "baseOS_models.run_model(\"SVM\", svm, svm_grid, scoring=\"f1\", cv=2)"
   ]
  },
  {
   "cell_type": "code",
   "execution_count": null,
   "id": "5e88ab4f-4bef-4fe7-8454-62b140a71dd0",
   "metadata": {},
   "outputs": [],
   "source": [
    "baseOS_models.get_results()"
   ]
  },
  {
   "cell_type": "code",
   "execution_count": null,
   "id": "568bfacc-3f85-42de-a732-2f7de5f03d52",
   "metadata": {},
   "outputs": [],
   "source": [
    "baseOS_models.dump_pkl(\"./pkl_store/baseOS.pkl\")"
   ]
  },
  {
   "cell_type": "markdown",
   "id": "58435055-21ac-468b-a7e6-c0584e03e324",
   "metadata": {},
   "source": [
    "#### Oversampling in Parts Models - Oversamlping, Partition Models"
   ]
  },
  {
   "cell_type": "code",
   "execution_count": null,
   "id": "badb68c5-4902-41da-88bf-5beb6896d433",
   "metadata": {},
   "outputs": [],
   "source": [
    "partsOS_models = PartProcessor(\n",
    "    data_df=ins_df, \n",
    "    target_col = y,\n",
    "    strat_col=\"model\",\n",
    "    quant_cols=X_quant_cols, \n",
    "    qual_cols=X_qual_cols\n",
    ")\n",
    "\n",
    "# splits the model into train and test segments\n",
    "partsOS_models.train_test_split(test_size=0.2)\n",
    "\n",
    "# standardize data using standard scaler\n",
    "partsOS_models.data_standarization(processor='StandardScaler')\n",
    "\n",
    "# oversamples the data\n",
    "partsOS_models.oversample_data()"
   ]
  },
  {
   "cell_type": "code",
   "execution_count": null,
   "id": "938c069d-946c-4ad0-b329-16a55015110f",
   "metadata": {},
   "outputs": [],
   "source": [
    "partsOS_models.run_model(\"Logistic Regression\", log_reg, lr_grid, scoring=\"f1\")"
   ]
  },
  {
   "cell_type": "code",
   "execution_count": null,
   "id": "986f4bd1-0f59-43ca-8e56-555fac812c6c",
   "metadata": {},
   "outputs": [],
   "source": [
    "partsOS_models.run_model(\"Decision Tree\", decision_tree, dt_grid, scoring=\"f1\")"
   ]
  },
  {
   "cell_type": "code",
   "execution_count": null,
   "id": "fff7b8cd-72ef-4deb-9df2-d74efe220a98",
   "metadata": {},
   "outputs": [],
   "source": [
    "partsOS_models.run_model(\"Random Forest\", random_forest, rf_grid, scoring=\"f1\")"
   ]
  },
  {
   "cell_type": "code",
   "execution_count": null,
   "id": "330c7ef3-0b56-4394-82d3-95dd215fef14",
   "metadata": {},
   "outputs": [],
   "source": [
    "partsOS_models.run_model(\"KNN\", knn, knn_grid, scoring=\"f1\")"
   ]
  },
  {
   "cell_type": "code",
   "execution_count": null,
   "id": "b52ab67a-f7bb-406f-b7ed-3a270ed2cf05",
   "metadata": {},
   "outputs": [],
   "source": [
    "partsOS_models.run_model(\"SVM\", svm, svm_grid, scoring=\"f1\", cv=2)"
   ]
  },
  {
   "cell_type": "code",
   "execution_count": null,
   "id": "aa78b6b2-4bc5-4ff9-96cc-bc1e34347020",
   "metadata": {},
   "outputs": [],
   "source": [
    "partsOS_models.get_results()"
   ]
  },
  {
   "cell_type": "code",
   "execution_count": null,
   "id": "3d65dc04-0851-403a-871f-0deb1be7a170",
   "metadata": {},
   "outputs": [],
   "source": [
    "partsOS_models.dump_pkl(\"./pkl_store/partsOS_models.pkl\")"
   ]
  },
  {
   "cell_type": "code",
   "execution_count": null,
   "id": "72b0f6ff-4409-4bb8-8451-cd407a068392",
   "metadata": {},
   "outputs": [],
   "source": [
    "partsOS_models.data_df.head()"
   ]
  }
 ],
 "metadata": {
  "kernelspec": {
   "display_name": "aml_insurance",
   "language": "python",
   "name": "aml_insurance"
  },
  "language_info": {
   "codemirror_mode": {
    "name": "ipython",
    "version": 3
   },
   "file_extension": ".py",
   "mimetype": "text/x-python",
   "name": "python",
   "nbconvert_exporter": "python",
   "pygments_lexer": "ipython3",
   "version": "3.11.8"
  }
 },
 "nbformat": 4,
 "nbformat_minor": 5
}
